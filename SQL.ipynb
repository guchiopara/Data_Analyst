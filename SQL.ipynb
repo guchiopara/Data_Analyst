{
  "nbformat": 4,
  "nbformat_minor": 0,
  "metadata": {
    "colab": {
      "provenance": []
    },
    "kernelspec": {
      "name": "python3",
      "display_name": "Python 3"
    },
    "language_info": {
      "name": "python"
    }
  },
  "cells": [
    {
      "cell_type": "markdown",
      "source": [
        "Calculate each user's average session time. A session is defined as the time difference between a page_load and page_exit. For simplicity, assume a user has only 1 session per day and if there are multiple of the same events on that day, consider only the latest page_load and earliest page_exit. Output the user_id and their average session time."
      ],
      "metadata": {
        "id": "AkLcIDhmWywv"
      }
    },
    {
      "cell_type": "code",
      "execution_count": null,
      "metadata": {
        "id": "8wNsBdVzWr8M"
      },
      "outputs": [],
      "source": [
        "with min_max as (select user_id,date(timestamp),\n",
        "max(case \n",
        "    when action = 'page_load' then timestamp\n",
        "    end) as pg_load,\n",
        "min(case \n",
        "    when action = 'page_exit' then timestamp\n",
        "    end)  as pg_exit\n",
        "from facebook_web_log group by 1,2)\n",
        "\n",
        "select user_id,avg(pg_exit-pg_load) as avg_session_time\n",
        "from min_max\n",
        "group by 1 having avg(pg_exit-pg_load) is not null ;"
      ]
    },
    {
      "cell_type": "markdown",
      "source": [
        "Find the titles of workers that earn the highest salary. Output the highest-paid title or multiple titles that share the highest salary."
      ],
      "metadata": {
        "id": "x0eY2T71W0Q9"
      }
    },
    {
      "cell_type": "code",
      "source": [
        "SELECT\n",
        "    worker_title AS best_paid_title \n",
        "FROM worker\n",
        "JOIN title \n",
        "ON worker_id = worker_ref_id\n",
        "WHERE salary = (SELECT MAX(salary) FROM worker)\n"
      ],
      "metadata": {
        "id": "VhUiE7mkW5q2"
      },
      "execution_count": null,
      "outputs": []
    }
  ]
}